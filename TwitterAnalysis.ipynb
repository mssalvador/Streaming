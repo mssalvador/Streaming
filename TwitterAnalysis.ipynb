{
 "cells": [
  {
   "cell_type": "markdown",
   "metadata": {
    "slideshow": {
     "slide_type": "slide"
    }
   },
   "source": [
    "### HELLO"
   ]
  },
  {
   "cell_type": "code",
   "execution_count": null,
   "metadata": {
    "collapsed": false,
    "slideshow": {
     "slide_type": "subslide"
    }
   },
   "outputs": [],
   "source": []
  },
  {
   "cell_type": "code",
   "execution_count": 121,
   "metadata": {
    "collapsed": false,
    "slideshow": {
     "slide_type": "slide"
    }
   },
   "outputs": [],
   "source": [
    "import os\n",
    "import re\n",
    "import tweepy\n",
    "from datetime import datetime\n",
    "import pandas as pd\n",
    "import numpy as np\n",
    "import seaborn as sb"
   ]
  },
  {
   "cell_type": "code",
   "execution_count": 126,
   "metadata": {
    "collapsed": false
   },
   "outputs": [],
   "source": [
    "class info:\n",
    "    \n",
    "    def __init__(self,file):\n",
    "        print(\"instance made\")\n",
    "        self.__file = file\n",
    "        with open(self.__file,\"r\") as f:\n",
    "            \n",
    "            vals = f.read()\n",
    "            listVals = [i.split(\"=\")  for i in vals.split(\"\\n\")]\n",
    "            del listVals[-1]\n",
    "            dictVals = {x[0]:x[1] for x in listVals}\n",
    "            #print(dictVals)\n",
    "            try:\n",
    "                self.__consumer_key = dictVals[\"consumer_key\"]\n",
    "                self.__consumer_secret = dictVals[\"consumer_secret\"]\n",
    "                self.__access_token = dictVals[\"access_token\"]\n",
    "                self.__access_token_secret = dictVals[\"access_token_secret\"]\n",
    "            except:\n",
    "                print(\"sorry....\")\n",
    "        \n",
    "    @property\n",
    "    def file(self):\n",
    "        return self.__file\n",
    "    \n",
    "    @file.setter\n",
    "    def file(self,file):\n",
    "        self.__file = file\n",
    "        \n",
    "    @property\n",
    "    def consumer_key(self):\n",
    "        return self.__consumer_key\n",
    "    \n",
    "    @property\n",
    "    def consumer_secret(self):\n",
    "        return self.__consumer_secret\n",
    "    \n",
    "    @property\n",
    "    def access_token(self):\n",
    "        return self.__access_token\n",
    "    \n",
    "    @property\n",
    "    def access_token_secret(self):\n",
    "        return self.__access_token_secret\n"
   ]
  },
  {
   "cell_type": "code",
   "execution_count": null,
   "metadata": {
    "collapsed": false
   },
   "outputs": [],
   "source": [
    "##############################Insert the right path!################################\n",
    "p = info(\"/home/michael/twitterTokens\")"
   ]
  },
  {
   "cell_type": "code",
   "execution_count": 3,
   "metadata": {
    "collapsed": false
   },
   "outputs": [],
   "source": [
    "ip = %system ifconfig"
   ]
  },
  {
   "cell_type": "code",
   "execution_count": 4,
   "metadata": {
    "collapsed": false
   },
   "outputs": [],
   "source": [
    "ipAdd = list(filter(lambda x: \"inet addr:192\" in x,ip))\n",
    "extracted = re.search(r\"inet addr:\\d{3}\\.\\d{3}\\.\\d{1,3}\\.\\d{1,3}\",ipAdd[0])\n"
   ]
  },
  {
   "cell_type": "code",
   "execution_count": 5,
   "metadata": {
    "collapsed": false
   },
   "outputs": [
    {
     "name": "stdout",
     "output_type": "stream",
     "text": [
      "[192, 168, 0, 13]\n"
     ]
    }
   ],
   "source": [
    "adress = re.search(r'\\d+\\.\\d+\\.\\d+\\.\\d+', extracted.group(0))\n",
    "ipAddress = [int(i) for i in adress.group(0).split(\".\")]\n",
    "print(ipAddress)"
   ]
  },
  {
   "cell_type": "code",
   "execution_count": 127,
   "metadata": {
    "collapsed": false
   },
   "outputs": [
    {
     "name": "stdout",
     "output_type": "stream",
     "text": [
      "instance made\n",
      "RT @Space_Station: Astronauts train today for @SpaceX #Dragon capture and check out @AstroRobonaut's power supply. https://t.co/96n48q5yVt…\n",
      "Marlon Brando and a cat c. 1950s https://t.co/YGuk1yYNuI\n",
      "Engineer Thomas Byrdsong (r) works on the Apollo/Saturn 1B Ground-wind-loads model @NASA_Langley in 1963:… https://t.co/FkYyqL3FES\n",
      "Jim Morrison, recording 1971’s L.A. Woman, by Edmund Teske https://t.co/OcC5QaILaV\n",
      "Jupiter and three of its moons were seen by our @OSIRISREx spacecraft as it travels in search of an asteroid. Info:… https://t.co/eir6qV7KPP\n",
      "RT @NASASunEarth: 15 years after launch, this instrument is still breaking ground in upper-atmosphere research. https://t.co/Vw8AseVukK htt…\n",
      "Seen from space: Pine Island Glacier sheds another block of ice into Antarctic waters, showing evidence of fragilit… https://t.co/4JF4pyLSBN\n",
      "We've investigating one of the biggest gaps in the understanding of Earth's water resources: snow. More:… https://t.co/6TRM0lZiPy\n",
      ".@SpaceX launch Saturday will be 1st from Pad 39A since shuttle &amp; will deliver 5,500 lbs of cargo to @Space_Station… https://t.co/PZuMRbpbd0\n",
      "RT @Thom_astro: With Progress and HTV gone, our Soyuz is lonely. At least it gets to enjoy the wonderful view of the entire Floridian penin…\n",
      "Sounding rocket set to launch to explore the aurora &amp; its interactions with Earth’s upper atmosphere and ionosphere… https://t.co/0CvUlhvWf3\n",
      "China. Guangxi province, 1980. Photo by Bruno Barbey. https://t.co/ADMDn0zu06\n",
      "1960s civil rights https://t.co/FDmA2ZgQEd\n",
      "RT @Thom_astro: Beautiful at night as well as during the day – you know what they say... all roads lead to #Rome https://t.co/E4Z3zKURKX ht…\n",
      "Monthly @NASAGISS temp update shows January 2017 was the 3rd warmest January in 137 years of modern record-keeping:… https://t.co/gdGyqdQUIJ\n",
      "Acting Admin Lightfoot presents our Exceptional Public Achievement Medal to author &amp; director of #HiddenFigures, wh… https://t.co/1DYeGMGQUo\n",
      "Summer, 1976.. London https://t.co/B9DAHL2rXp\n",
      "Such beautiful imagery! #CassiniInspires https://t.co/hGYOrE39Al\n",
      "Dare to dream! We're working to send humans on a #JourneyToMars. The testing is real, the journey is underway https://t.co/BNUZclDes5\n",
      "RT @NASA_Orion: We’re going to study the possibility of flying crew on the 1st flight of the @NASA_SLS rocket w/ @NASA_Orion on top: https:…\n"
     ]
    }
   ],
   "source": [
    "\n",
    "\n",
    "#Variables that contains the user credentials to access Twitter API \n",
    "####\n",
    "\n",
    "\n",
    "auth = tweepy.OAuthHandler(p.consumer_key, p.consumer_secret)\n",
    "auth.set_access_token(p.access_token, p.access_token_secret)\n",
    "\n",
    "api = tweepy.API(auth)\n",
    "\n",
    "#show my own tweets from my time line\n",
    "public_tweets = api.home_timeline()\n",
    "for tweet in public_tweets:\n",
    "    print(tweet.text)"
   ]
  },
  {
   "cell_type": "code",
   "execution_count": 15,
   "metadata": {
    "collapsed": false,
    "scrolled": true
   },
   "outputs": [],
   "source": [
    "user = api.get_user('BaumRn')\n",
    "followers = user.followers()"
   ]
  },
  {
   "cell_type": "code",
   "execution_count": 16,
   "metadata": {
    "collapsed": false
   },
   "outputs": [],
   "source": [
    "def getAllTweets(user):\n",
    "    '''\n",
    "        This method returns a list with all tweets that a person has made or brought\n",
    "    '''\n",
    "    tweets = user.timeline(count=200)\n",
    "    allTweets = tweets\n",
    "    while 1:\n",
    "        try:\n",
    "            maxId = [v.id for v in tweets][-1]\n",
    "        except IndexError:\n",
    "            break\n",
    "        tweets = user.timeline(count=200,max_id=maxId-1)\n",
    "        allTweets = allTweets+tweets    \n",
    "    return allTweets"
   ]
  },
  {
   "cell_type": "code",
   "execution_count": 17,
   "metadata": {
    "collapsed": false,
    "scrolled": true
   },
   "outputs": [
    {
     "name": "stdout",
     "output_type": "stream",
     "text": [
      "430\n"
     ]
    }
   ],
   "source": [
    "allTweets = getAllTweets(user)\n",
    "print(len(allTweets))\n",
    "firstTweet = allTweets[-1]\n",
    "#for v in allTweets:\n",
    "#    #print(v)\n",
    "#    print(v.retweet_count)\n",
    "#    print(str(v.id)+\"\\t\"+str(re.findall(r'\\#[a-zA-Z0-9]+',v.text))+\"\\t\"+str(v.created_at)+\"\\t\")\n",
    "#   print(\"\\n\")"
   ]
  },
  {
   "cell_type": "code",
   "execution_count": 18,
   "metadata": {
    "collapsed": false
   },
   "outputs": [
    {
     "name": "stdout",
     "output_type": "stream",
     "text": [
      "657108374887251968\t#dkpol #dkbiz Fortsat bedring i finansieringsklimaet i Danmark https://t.co/hinDzMU9vl\t2015-10-22 08:16:59\n"
     ]
    }
   ],
   "source": [
    "#the first tweet TB did\n",
    "print(str(firstTweet.id)+\"\\t\"+firstTweet.text+\"\\t\"+str(firstTweet.created_at))"
   ]
  },
  {
   "cell_type": "code",
   "execution_count": 19,
   "metadata": {
    "collapsed": false
   },
   "outputs": [],
   "source": [
    "dates = list(map(lambda x: (x.year,x.month,x.day), [v.created_at for v in allTweets]))\n",
    "dateDf = pd.DataFrame(dates,columns=[\"year\",\"month\",\"day\"])"
   ]
  },
  {
   "cell_type": "code",
   "execution_count": 20,
   "metadata": {
    "collapsed": false
   },
   "outputs": [
    {
     "data": {
      "text/html": [
       "<div>\n",
       "<table border=\"1\" class=\"dataframe\">\n",
       "  <thead>\n",
       "    <tr style=\"text-align: right;\">\n",
       "      <th></th>\n",
       "      <th>year</th>\n",
       "      <th>month</th>\n",
       "      <th>day</th>\n",
       "    </tr>\n",
       "  </thead>\n",
       "  <tbody>\n",
       "    <tr>\n",
       "      <th>0</th>\n",
       "      <td>2015</td>\n",
       "      <td>10</td>\n",
       "      <td>5</td>\n",
       "    </tr>\n",
       "    <tr>\n",
       "      <th>1</th>\n",
       "      <td>2015</td>\n",
       "      <td>12</td>\n",
       "      <td>11</td>\n",
       "    </tr>\n",
       "    <tr>\n",
       "      <th>2</th>\n",
       "      <td>2016</td>\n",
       "      <td>1</td>\n",
       "      <td>48</td>\n",
       "    </tr>\n",
       "    <tr>\n",
       "      <th>3</th>\n",
       "      <td>2016</td>\n",
       "      <td>2</td>\n",
       "      <td>75</td>\n",
       "    </tr>\n",
       "    <tr>\n",
       "      <th>4</th>\n",
       "      <td>2016</td>\n",
       "      <td>3</td>\n",
       "      <td>62</td>\n",
       "    </tr>\n",
       "    <tr>\n",
       "      <th>5</th>\n",
       "      <td>2016</td>\n",
       "      <td>4</td>\n",
       "      <td>49</td>\n",
       "    </tr>\n",
       "    <tr>\n",
       "      <th>6</th>\n",
       "      <td>2016</td>\n",
       "      <td>5</td>\n",
       "      <td>18</td>\n",
       "    </tr>\n",
       "    <tr>\n",
       "      <th>7</th>\n",
       "      <td>2016</td>\n",
       "      <td>6</td>\n",
       "      <td>45</td>\n",
       "    </tr>\n",
       "    <tr>\n",
       "      <th>8</th>\n",
       "      <td>2016</td>\n",
       "      <td>7</td>\n",
       "      <td>14</td>\n",
       "    </tr>\n",
       "    <tr>\n",
       "      <th>9</th>\n",
       "      <td>2016</td>\n",
       "      <td>8</td>\n",
       "      <td>6</td>\n",
       "    </tr>\n",
       "    <tr>\n",
       "      <th>10</th>\n",
       "      <td>2016</td>\n",
       "      <td>9</td>\n",
       "      <td>59</td>\n",
       "    </tr>\n",
       "    <tr>\n",
       "      <th>11</th>\n",
       "      <td>2016</td>\n",
       "      <td>10</td>\n",
       "      <td>11</td>\n",
       "    </tr>\n",
       "    <tr>\n",
       "      <th>12</th>\n",
       "      <td>2016</td>\n",
       "      <td>11</td>\n",
       "      <td>24</td>\n",
       "    </tr>\n",
       "    <tr>\n",
       "      <th>13</th>\n",
       "      <td>2016</td>\n",
       "      <td>12</td>\n",
       "      <td>2</td>\n",
       "    </tr>\n",
       "    <tr>\n",
       "      <th>14</th>\n",
       "      <td>2017</td>\n",
       "      <td>1</td>\n",
       "      <td>1</td>\n",
       "    </tr>\n",
       "  </tbody>\n",
       "</table>\n",
       "</div>"
      ],
      "text/plain": [
       "    year  month  day\n",
       "0   2015     10    5\n",
       "1   2015     12   11\n",
       "2   2016      1   48\n",
       "3   2016      2   75\n",
       "4   2016      3   62\n",
       "5   2016      4   49\n",
       "6   2016      5   18\n",
       "7   2016      6   45\n",
       "8   2016      7   14\n",
       "9   2016      8    6\n",
       "10  2016      9   59\n",
       "11  2016     10   11\n",
       "12  2016     11   24\n",
       "13  2016     12    2\n",
       "14  2017      1    1"
      ]
     },
     "execution_count": 20,
     "metadata": {},
     "output_type": "execute_result"
    }
   ],
   "source": [
    "dateDf.groupby(by=[\"year\",\"month\"],as_index=False).count()"
   ]
  },
  {
   "cell_type": "code",
   "execution_count": 14,
   "metadata": {
    "collapsed": false
   },
   "outputs": [
    {
     "name": "stdout",
     "output_type": "stream",
     "text": [
      "Peter Sergio Larsen\n",
      "Mick Holm Kristensen\n",
      "Michael Svanholm\n",
      "Dennis Jensen\n",
      "Frederik Funder\n",
      "Anders Goul Møller\n",
      "Anders F. Kjærgaard\n",
      "Ema Radmilovic\n",
      "Sigrid Wilbeck\n",
      "Ania\n",
      "Stirling Global.\n",
      "Niels BrandtPetersen\n",
      "Christian Hannibal\n",
      "Adam Lebech\n",
      "Maiken Stensgaard\n",
      "Genevieve Alister\n",
      "Hanne Schou\n",
      "Lise Walbom\n",
      "Kenneth Schultz\n",
      "Anders Brandtoft\n"
     ]
    }
   ],
   "source": [
    "#people following Thorbjørn\n",
    "\n",
    "for i in user.followers():\n",
    "    print(i.name)\n",
    "    \n",
    "tbTimeLine = user.timeline()"
   ]
  },
  {
   "cell_type": "code",
   "execution_count": 21,
   "metadata": {
    "collapsed": false
   },
   "outputs": [
    {
     "data": {
      "text/plain": [
       "[3613880475,\n",
       " 2807378283,\n",
       " 2339814349,\n",
       " 40304113,\n",
       " 228107253,\n",
       " 11348282,\n",
       " 1086485478,\n",
       " 1287555762,\n",
       " 15165493]"
      ]
     },
     "execution_count": 21,
     "metadata": {},
     "output_type": "execute_result"
    }
   ],
   "source": [
    "api.friends_ids()"
   ]
  },
  {
   "cell_type": "code",
   "execution_count": 23,
   "metadata": {
    "collapsed": false
   },
   "outputs": [
    {
     "data": {
      "text/plain": [
       "Status(is_quote_status=False, place=None, in_reply_to_user_id=None, favorite_count=0, source='Twitter for iPhone', in_reply_to_screen_name=None, coordinates=None, in_reply_to_user_id_str=None, in_reply_to_status_id=None, entities={'symbols': [], 'user_mentions': [{'id': 85666267, 'indices': [3, 12], 'screen_name': 'bjhjuler', 'name': 'Bo Hjuler', 'id_str': '85666267'}, {'id': 1088897515, 'indices': [24, 30], 'screen_name': 'Wuxus', 'name': 'Wuxus A/S', 'id_str': '1088897515'}, {'id': 773271914, 'indices': [34, 50], 'screen_name': 'BrianMikkelsenC', 'name': 'Brian Mikkelsen', 'id_str': '773271914'}, {'id': 875236008, 'indices': [62, 74], 'screen_name': 'di_digital_', 'name': 'DI Digital', 'id_str': '875236008'}, {'id': 711855443778347008, 'indices': [86, 100], 'screen_name': 'VindFremtiden', 'name': 'DI - Vind Fremtiden', 'id_str': '711855443778347008'}], 'hashtags': [{'text': 'digidk', 'indices': [116, 123]}, {'text': 'dkbiz', 'indices': [124, 130]}], 'urls': []}, id=816344704283451392, contributors=None, favorited=False, truncated=False, id_str='816344704283451392', retweeted=False, retweeted_status=Status(is_quote_status=False, place=None, in_reply_to_user_id=None, favorite_count=8, source='Twitter Web Client', in_reply_to_screen_name=None, coordinates=None, in_reply_to_user_id_str=None, in_reply_to_status_id=None, entities={'symbols': [], 'user_mentions': [{'id': 1088897515, 'indices': [10, 16], 'screen_name': 'Wuxus', 'name': 'Wuxus A/S', 'id_str': '1088897515'}, {'id': 773271914, 'indices': [20, 36], 'screen_name': 'BrianMikkelsenC', 'name': 'Brian Mikkelsen', 'id_str': '773271914'}, {'id': 875236008, 'indices': [48, 60], 'screen_name': 'di_digital_', 'name': 'DI Digital', 'id_str': '875236008'}, {'id': 711855443778347008, 'indices': [72, 86], 'screen_name': 'VindFremtiden', 'name': 'DI - Vind Fremtiden', 'id_str': '711855443778347008'}], 'hashtags': [{'text': 'digidk', 'indices': [102, 109]}], 'urls': [{'display_url': 'twitter.com/i/web/status/8…', 'indices': [111, 134], 'url': 'https://t.co/DFkW1Gi3PA', 'expanded_url': 'https://twitter.com/i/web/status/816226586571788288'}]}, id=816226586571788288, contributors=None, possibly_sensitive=False, favorited=False, truncated=True, id_str='816226586571788288', retweeted=False, retweet_count=7, lang='da', _json={'is_quote_status': False, 'place': None, 'in_reply_to_user_id': None, 'favorite_count': 8, 'source': '<a href=\"http://twitter.com\" rel=\"nofollow\">Twitter Web Client</a>', 'geo': None, 'in_reply_to_user_id_str': None, 'in_reply_to_status_id': None, 'entities': {'symbols': [], 'user_mentions': [{'id': 1088897515, 'indices': [10, 16], 'screen_name': 'Wuxus', 'name': 'Wuxus A/S', 'id_str': '1088897515'}, {'id': 773271914, 'indices': [20, 36], 'screen_name': 'BrianMikkelsenC', 'name': 'Brian Mikkelsen', 'id_str': '773271914'}, {'id': 875236008, 'indices': [48, 60], 'screen_name': 'di_digital_', 'name': 'DI Digital', 'id_str': '875236008'}, {'id': 711855443778347008, 'indices': [72, 86], 'screen_name': 'VindFremtiden', 'name': 'DI - Vind Fremtiden', 'id_str': '711855443778347008'}], 'hashtags': [{'text': 'digidk', 'indices': [102, 109]}], 'urls': [{'display_url': 'twitter.com/i/web/status/8…', 'indices': [111, 134], 'url': 'https://t.co/DFkW1Gi3PA', 'expanded_url': 'https://twitter.com/i/web/status/816226586571788288'}]}, 'id': 816226586571788288, 'contributors': None, 'in_reply_to_status_id_str': None, 'possibly_sensitive': False, 'truncated': True, 'favorited': False, 'id_str': '816226586571788288', 'retweeted': False, 'retweet_count': 7, 'lang': 'da', 'coordinates': None, 'created_at': 'Tue Jan 03 10:15:57 +0000 2017', 'in_reply_to_screen_name': None, 'text': 'Hør bl.a. @Wuxus og @BrianMikkelsenC. Nytårskur @di_digital_ 5. januar. @VindFremtiden ikke tabe den. #digidk… https://t.co/DFkW1Gi3PA'}, created_at=datetime.datetime(2017, 1, 3, 10, 15, 57), geo=None, _api=<tweepy.api.API object at 0x7fcfbabb0fd0>, in_reply_to_status_id_str=None, source_url='http://twitter.com', text='Hør bl.a. @Wuxus og @BrianMikkelsenC. Nytårskur @di_digital_ 5. januar. @VindFremtiden ikke tabe den. #digidk… https://t.co/DFkW1Gi3PA'), retweet_count=7, lang='da', _json={'is_quote_status': False, 'place': None, 'in_reply_to_user_id': None, 'favorite_count': 0, 'source': '<a href=\"http://twitter.com/download/iphone\" rel=\"nofollow\">Twitter for iPhone</a>', 'geo': None, 'in_reply_to_user_id_str': None, 'in_reply_to_status_id': None, 'entities': {'symbols': [], 'user_mentions': [{'id': 85666267, 'indices': [3, 12], 'screen_name': 'bjhjuler', 'name': 'Bo Hjuler', 'id_str': '85666267'}, {'id': 1088897515, 'indices': [24, 30], 'screen_name': 'Wuxus', 'name': 'Wuxus A/S', 'id_str': '1088897515'}, {'id': 773271914, 'indices': [34, 50], 'screen_name': 'BrianMikkelsenC', 'name': 'Brian Mikkelsen', 'id_str': '773271914'}, {'id': 875236008, 'indices': [62, 74], 'screen_name': 'di_digital_', 'name': 'DI Digital', 'id_str': '875236008'}, {'id': 711855443778347008, 'indices': [86, 100], 'screen_name': 'VindFremtiden', 'name': 'DI - Vind Fremtiden', 'id_str': '711855443778347008'}], 'hashtags': [{'text': 'digidk', 'indices': [116, 123]}, {'text': 'dkbiz', 'indices': [124, 130]}], 'urls': []}, 'id': 816344704283451392, 'contributors': None, 'in_reply_to_status_id_str': None, 'truncated': False, 'favorited': False, 'id_str': '816344704283451392', 'retweeted': False, 'retweeted_status': {'is_quote_status': False, 'place': None, 'in_reply_to_user_id': None, 'favorite_count': 8, 'source': '<a href=\"http://twitter.com\" rel=\"nofollow\">Twitter Web Client</a>', 'geo': None, 'in_reply_to_user_id_str': None, 'in_reply_to_status_id': None, 'entities': {'symbols': [], 'user_mentions': [{'id': 1088897515, 'indices': [10, 16], 'screen_name': 'Wuxus', 'name': 'Wuxus A/S', 'id_str': '1088897515'}, {'id': 773271914, 'indices': [20, 36], 'screen_name': 'BrianMikkelsenC', 'name': 'Brian Mikkelsen', 'id_str': '773271914'}, {'id': 875236008, 'indices': [48, 60], 'screen_name': 'di_digital_', 'name': 'DI Digital', 'id_str': '875236008'}, {'id': 711855443778347008, 'indices': [72, 86], 'screen_name': 'VindFremtiden', 'name': 'DI - Vind Fremtiden', 'id_str': '711855443778347008'}], 'hashtags': [{'text': 'digidk', 'indices': [102, 109]}], 'urls': [{'display_url': 'twitter.com/i/web/status/8…', 'indices': [111, 134], 'url': 'https://t.co/DFkW1Gi3PA', 'expanded_url': 'https://twitter.com/i/web/status/816226586571788288'}]}, 'id': 816226586571788288, 'contributors': None, 'in_reply_to_status_id_str': None, 'possibly_sensitive': False, 'truncated': True, 'favorited': False, 'id_str': '816226586571788288', 'retweeted': False, 'retweet_count': 7, 'lang': 'da', 'coordinates': None, 'created_at': 'Tue Jan 03 10:15:57 +0000 2017', 'in_reply_to_screen_name': None, 'text': 'Hør bl.a. @Wuxus og @BrianMikkelsenC. Nytårskur @di_digital_ 5. januar. @VindFremtiden ikke tabe den. #digidk… https://t.co/DFkW1Gi3PA'}, 'retweet_count': 7, 'lang': 'da', 'coordinates': None, 'created_at': 'Tue Jan 03 18:05:19 +0000 2017', 'in_reply_to_screen_name': None, 'text': 'RT @bjhjuler: Hør bl.a. @Wuxus og @BrianMikkelsenC. Nytårskur @di_digital_ 5. januar. @VindFremtiden ikke tabe den. #digidk #dkbiz https://…'}, created_at=datetime.datetime(2017, 1, 3, 18, 5, 19), geo=None, _api=<tweepy.api.API object at 0x7fcfbabb0fd0>, in_reply_to_status_id_str=None, source_url='http://twitter.com/download/iphone', text='RT @bjhjuler: Hør bl.a. @Wuxus og @BrianMikkelsenC. Nytårskur @di_digital_ 5. januar. @VindFremtiden ikke tabe den. #digidk #dkbiz https://…')"
      ]
     },
     "execution_count": 23,
     "metadata": {},
     "output_type": "execute_result"
    }
   ],
   "source": [
    "#number of times Thorbjørn has been retweetedt\n",
    "tbTimeLine"
   ]
  },
  {
   "cell_type": "code",
   "execution_count": null,
   "metadata": {
    "collapsed": true
   },
   "outputs": [],
   "source": []
  }
 ],
 "metadata": {
  "kernelspec": {
   "display_name": "Python 3",
   "language": "python",
   "name": "python3"
  },
  "language_info": {
   "codemirror_mode": {
    "name": "ipython",
    "version": 3
   },
   "file_extension": ".py",
   "mimetype": "text/x-python",
   "name": "python",
   "nbconvert_exporter": "python",
   "pygments_lexer": "ipython3",
   "version": "3.5.2"
  }
 },
 "nbformat": 4,
 "nbformat_minor": 1
}
