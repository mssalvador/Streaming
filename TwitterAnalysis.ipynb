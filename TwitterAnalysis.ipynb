{
 "cells": [
  {
   "cell_type": "code",
   "execution_count": 1,
   "metadata": {
    "collapsed": false
   },
   "outputs": [
    {
     "data": {
      "text/plain": [
       "<pyspark.context.SparkContext at 0x7fcfd8082588>"
      ]
     },
     "execution_count": 1,
     "metadata": {},
     "output_type": "execute_result"
    }
   ],
   "source": [
    "sc"
   ]
  },
  {
   "cell_type": "code",
   "execution_count": 2,
   "metadata": {
    "collapsed": false
   },
   "outputs": [],
   "source": [
    "from pyspark import SparkContext\n",
    "from pyspark.streaming import StreamingContext\n",
    "from pyspark.sql import SQLContext\n",
    "from pyspark.sql import functions as F\n",
    "import os\n",
    "import re\n",
    "import tweepy"
   ]
  },
  {
   "cell_type": "code",
   "execution_count": 3,
   "metadata": {
    "collapsed": false
   },
   "outputs": [
    {
     "name": "stdout",
     "output_type": "stream",
     "text": [
      "['TweetRead.py', 'TwitterAnalysis.ipynb', \"<module 'posixpath' from '\", 'svanholmdata.txt', '.ipynb_checkpoints', 'test.txt']\n"
     ]
    }
   ],
   "source": [
    "print(os.listdir())\n",
    "ssc = StreamingContext(sc, 10 )\n",
    "sqlContext = SQLContext(sc)\n",
    "ssc.checkpoint(str(os.path)+\"/checkpoint\")"
   ]
  },
  {
   "cell_type": "code",
   "execution_count": 4,
   "metadata": {
    "collapsed": false
   },
   "outputs": [],
   "source": [
    "ip = %system ifconfig"
   ]
  },
  {
   "cell_type": "code",
   "execution_count": 5,
   "metadata": {
    "collapsed": false
   },
   "outputs": [],
   "source": [
    "ipAdd = list(filter(lambda x: \"inet addr:192\" in x,ip))\n",
    "extracted = re.search(r\"inet addr:\\d{3}\\.\\d{3}\\.\\d{1,3}\\.\\d{1,3}\",ipAdd[0])\n"
   ]
  },
  {
   "cell_type": "code",
   "execution_count": 6,
   "metadata": {
    "collapsed": false
   },
   "outputs": [
    {
     "name": "stdout",
     "output_type": "stream",
     "text": [
      "[192, 168, 0, 13]\n"
     ]
    }
   ],
   "source": [
    "adress = re.search(r'\\d+\\.\\d+\\.\\d+\\.\\d+', extracted.group(0))\n",
    "ipAddress = [int(i) for i in adress.group(0).split(\".\")]\n",
    "print(ipAddress)"
   ]
  },
  {
   "cell_type": "code",
   "execution_count": 7,
   "metadata": {
    "collapsed": false
   },
   "outputs": [
    {
     "name": "stdout",
     "output_type": "stream",
     "text": [
      "Photographer Harry Warnecke gets the NYPD to reenact the moment they stopped traffic for a cat \"Blackie\" and her ki… https://t.co/5Wl9utU7uV\n",
      "Inspired by the beauty of Saturn? #CassiniInspires invites the public to share original Saturn-inspired art:… https://t.co/JRP3Yugg5F\n",
      "Lecture notes, videos and exercises+solutions from Prof. Laurenz Wiskott https://t.co/tgfiBgjlOn INI RUB #machinelearning\n",
      ".@WIRED took over the @digg home page with an AI using @deeplearning4j https://t.co/leXJ5r3PGS #deeplearning #java\n",
      "#InceptionV3 image recognition pretrained on #Keras #ImageNet &amp; running on JVM w/ @deeplearning4j https://t.co/6tjX7AorKi @thammegowda #java\n",
      "RT @crapougnax: Using Kafka as the backbone for your microservices architecture https://t.co/VJO6TphIRs\n",
      "Deep learning and the Schrödinger equation https://t.co/OpUImedu2o #deeplearning\n",
      "What My Deep Model Doesn't Know... https://t.co/2RhzsPZsUA\n",
      "RT @ValaAfshar: Somebody thought it was a good idea to teach robots how to be exceptionally good with swords. https://t.co/M4f2G2X0qH\n",
      "RT @thammegowda: e.g.: using #InceptionV3 image recognition(pretrained on #Keras #ImageNet) on JVM w/ @deeplearning4j https://t.co/zhBzVz6z…\n",
      "A mission studying Earth’s magnetic field by flying four identical spacecraft is headed into new territory. More:… https://t.co/fPii6PAG6i\n",
      "RT @NASADLN: Intro. a Girl to Engineering Day is Feb 23. Tune in starting at 9am ET for Q&amp;A with @NASA Engineers. Learn more at https://t.c…\n",
      "Final @NASA_SLS work platform installed in @NASAKennedy's Vehicle Assembly Building to prep for future launches:… https://t.co/vBKuURAxXP\n",
      "RT @lucasjellema: Implement running Top N aggregation with Kafka Streams against Kafka Topic - read my blog https://t.co/AhxA0iPVQZ @apache…\n",
      "RT @Thom_astro: #Paris at night. I might be biased, but it’s the most beautiful thing I’ve seen yet (picture by friend &amp; #Soyuz commander O…\n",
      "Kennedy Family with John Jr. Saluting His Father's Casket https://t.co/oxQTaLUHRO\n",
      "Audrey Hepburn photographed on the set of Breakfast at Tiffany’s, New York City, 1961 https://t.co/AygqWaYvBn\n",
      "Mars is dynamic! New impact craters can help scientists see the underlying rock beneath the dust-coated terrain:… https://t.co/y4JLeL0IIL\n",
      "RT @astro_kimbrough: Striking beauty of the Bahamas! https://t.co/umzDdY7IcB\n"
     ]
    }
   ],
   "source": [
    "\n",
    "\n",
    "#Variables that contains the user credentials to access Twitter API \n",
    "consumer_key = 'B8hcPElr1sX7QnC4FzuxQZ3mw'\n",
    "consumer_secret = '4CzdOFZrwOY4M6oMx3KxaBSuabpADq8o90PhRznBzlQCczJ3tU'\n",
    "access_token = '742610974516072448-4vKn9jwMpGN6wFla8ZBVeR2Fsv6Pmm8'\n",
    "access_token_secret = 'HwoAUGEN1xageZ0x9uPyFEpXHDRUsfFjw0sPyQTfKtJEl'\n",
    "\n",
    "\n",
    "auth = tweepy.OAuthHandler(consumer_key, consumer_secret)\n",
    "auth.set_access_token(access_token, access_token_secret)\n",
    "\n",
    "api = tweepy.API(auth)\n",
    "\n",
    "#show my own tweets from my time line\n",
    "public_tweets = api.home_timeline()\n",
    "for tweet in public_tweets:\n",
    "    print(tweet.text)"
   ]
  },
  {
   "cell_type": "code",
   "execution_count": 8,
   "metadata": {
    "collapsed": false,
    "scrolled": true
   },
   "outputs": [],
   "source": [
    "user = api.get_user('baumRn')\n"
   ]
  },
  {
   "cell_type": "code",
   "execution_count": 26,
   "metadata": {
    "collapsed": false,
    "scrolled": false
   },
   "outputs": [
    {
     "name": "stdout",
     "output_type": "stream",
     "text": [
      "816344704283451392\tRT @bjhjuler: Hør bl.a. @Wuxus og @BrianMikkelsenC. Nytårskur @di_digital_ 5. januar. @VindFremtiden ikke tabe den. #digidk #dkbiz https://…\t2017-01-03 18:05:19\n",
      "\n",
      "\n",
      "814461380845826049\tRT @TimSmidemann: Analyse @DanskIndustri: Privatforbrug runder 1 billion i 17. @KentDamsgaard venter stigning på 2% i 16 og 17 #dkøko https…\t2016-12-29 13:21:39\n",
      "\n",
      "\n",
      "810524138662195201\tRT @DIBusinessdk: Julemåneden giver #dkbiz øget salg i både ind- og udland - fx stiger forbrug af sylte, syltede grisetæer mv m. 418 % http…\t2016-12-18 16:36:28\n",
      "\n",
      "\n",
      "803603317532360704\tRT @allan_sorensen: USA vokser i hurtigste tempo i otte kvartaler. Og dollar på stærkeste niveau i over et år. #dkbiz med gode muligheder i…\t2016-11-29 14:15:35\n",
      "\n",
      "\n",
      "802895389812789248\tRT @TimSmidemann: Karsten Dybvad @DanskIndustri roser på @tv2newsdk ny regering for stærkt reg.grundlag, der vil bringe Danmark fremad #dkp…\t2016-11-27 15:22:32\n",
      "\n",
      "\n",
      "800305975005679617\tRT @DanskIndustri: Regeringens #2025plan anviser de reformer, der skal bringe os hen til flere hænder og hoveder til at skabe vækst #dkpol…\t2016-11-20 11:53:08\n",
      "\n",
      "\n",
      "800305935990345728\tRT @LarsHolmN: Tak fra Dybvad @DanskIndustri  på #vlm16 til @larsloekke og @venstredk for helhedsplanen. Vækst giver velstand #dkpol https:…\t2016-11-20 11:52:58\n",
      "\n",
      "\n",
      "800305799704690688\tRT @DanskIndustri: Vækst kan aldrig være et mål i sig selv. Målet r at skabe d gode liv for danskerne. Vækst og velstand giver os forudsætn…\t2016-11-20 11:52:26\n",
      "\n",
      "\n",
      "800305705613926400\tRT @DanskIndustri: De to største udfordringer for vores velstand i er at få medarbejdere og at øge produktiviteten, Karsten Dybvad #dkpol #…\t2016-11-20 11:52:03\n",
      "\n",
      "\n",
      "800305618271830016\tRT @TimSmidemann: Karsten Dybvad @DanskIndustri takker @larsloekke for god og modig #2025plan og d r entydigt godt for DK flere partier ta'…\t2016-11-20 11:51:43\n",
      "\n",
      "\n",
      "796240539754622976\tRT @paulkrugman: But right now, I'm just going to bed. 2/\t2016-11-09 06:38:32\n",
      "\n",
      "\n",
      "796240531382796288\tRT @paulkrugman: America, we hardly knew ye. Certainly I misjudged the country. But as I said, recriminations don't help. The road back beg…\t2016-11-09 06:38:30\n",
      "\n",
      "\n",
      "796240096941002752\tRT @KentDamsgaard: Ja @perchristen3F. Behov for indsats for at styrke investeringer i SMV'er! Men vigtigt de store også investerer i DK htt…\t2016-11-09 06:36:47\n",
      "\n",
      "\n",
      "795519384945119232\tRT @DanskIndustri: Se @KentDamsgaard på @TV2Business kl.9.00 og @tv2newsdk kl.9.45, når der kommer nye tal for industriproduktion  fra @DST…\t2016-11-07 06:52:56\n",
      "\n",
      "\n",
      "794275544275812359\tRT @DanskIndustri: Danmark får ikke hjælp udefra, når d kommer t at skabe vækst. Dybvad i @berlingske. Ny prognose fra DI #dkpol #dkbiz htt…\t2016-11-03 20:30:21\n",
      "\n",
      "\n",
      "794275524306731009\tRT @PerGeckler: Dybvad @DanskIndustri: Ingen medvind fra verdensmarkederne til dansk vækst. Vi skal skabe den selv  #dkpol #dkøko https://t…\t2016-11-03 20:30:16\n",
      "\n",
      "\n",
      "794275325752573953\tRT @DanskIndustri: Adgang til medarb. og bedre konk.evne er vejen til at få gang i eksport og vækst, Dybvad i @berlingske #dkpol #dkbiz htt…\t2016-11-03 20:29:29\n",
      "\n",
      "\n",
      "794275254034169857\tRT @KentDamsgaard: Ny prognose fra DI - læs den i sin helhed her: https://t.co/u8wExjua6Q\t2016-11-03 20:29:12\n",
      "\n",
      "\n",
      "794275218785206272\tRT @MGranzau: Ny @DanskIndustri prognose understreger behov for ambitiøs #2025 med tiltag der løfter produktivitet #dkpol #dkbiz\n",
      "https://t.…\t2016-11-03 20:29:03\n",
      "\n",
      "\n",
      "794275170362003457\tRT @TimSmidemann: Svag vækst på eksportmarkeder. Her er grafik, der viser, DK intet får foræret. Derfor bedre konk.evne vigtig #dkpol https…\t2016-11-03 20:28:52\n",
      "\n",
      "\n"
     ]
    }
   ],
   "source": [
    "for v in user.timeline():\n",
    "    #print(v)\n",
    "\n",
    "    print(str(v.id)+\"\\t\"+v.text+\"\\t\"+str(v.created_at))\n",
    "    print(\"\\n\")"
   ]
  },
  {
   "cell_type": "code",
   "execution_count": 27,
   "metadata": {
    "collapsed": false
   },
   "outputs": [
    {
     "name": "stdout",
     "output_type": "stream",
     "text": [
      "Peter Sergio Larsen\n",
      "Mick Holm Kristensen\n",
      "Michael Svanholm\n",
      "Dennis Jensen\n",
      "Frederik Funder\n",
      "Anders Goul Møller\n",
      "Anders F. Kjærgaard\n",
      "Ema Radmilovic\n",
      "Sigrid Wilbeck\n",
      "Ania\n",
      "Stirling Global.\n",
      "Niels BrandtPetersen\n",
      "Christian Hannibal\n",
      "Adam Lebech\n",
      "Maiken Stensgaard\n",
      "Genevieve Alister\n",
      "Hanne Schou\n",
      "Lise Walbom\n",
      "Kenneth Schultz\n",
      "Anders Brandtoft\n"
     ]
    }
   ],
   "source": [
    "#people following Thorbjørn\n",
    "\n",
    "for i in user.followers():\n",
    "    print(i.name)\n",
    "    \n",
    "tbTimeLine = user.timeline()"
   ]
  },
  {
   "cell_type": "code",
   "execution_count": 23,
   "metadata": {
    "collapsed": false
   },
   "outputs": [
    {
     "data": {
      "text/plain": [
       "Status(is_quote_status=False, place=None, in_reply_to_user_id=None, favorite_count=0, source='Twitter for iPhone', in_reply_to_screen_name=None, coordinates=None, in_reply_to_user_id_str=None, in_reply_to_status_id=None, entities={'symbols': [], 'user_mentions': [{'id': 85666267, 'indices': [3, 12], 'screen_name': 'bjhjuler', 'name': 'Bo Hjuler', 'id_str': '85666267'}, {'id': 1088897515, 'indices': [24, 30], 'screen_name': 'Wuxus', 'name': 'Wuxus A/S', 'id_str': '1088897515'}, {'id': 773271914, 'indices': [34, 50], 'screen_name': 'BrianMikkelsenC', 'name': 'Brian Mikkelsen', 'id_str': '773271914'}, {'id': 875236008, 'indices': [62, 74], 'screen_name': 'di_digital_', 'name': 'DI Digital', 'id_str': '875236008'}, {'id': 711855443778347008, 'indices': [86, 100], 'screen_name': 'VindFremtiden', 'name': 'DI - Vind Fremtiden', 'id_str': '711855443778347008'}], 'hashtags': [{'text': 'digidk', 'indices': [116, 123]}, {'text': 'dkbiz', 'indices': [124, 130]}], 'urls': []}, id=816344704283451392, contributors=None, favorited=False, truncated=False, id_str='816344704283451392', retweeted=False, retweeted_status=Status(is_quote_status=False, place=None, in_reply_to_user_id=None, favorite_count=8, source='Twitter Web Client', in_reply_to_screen_name=None, coordinates=None, in_reply_to_user_id_str=None, in_reply_to_status_id=None, entities={'symbols': [], 'user_mentions': [{'id': 1088897515, 'indices': [10, 16], 'screen_name': 'Wuxus', 'name': 'Wuxus A/S', 'id_str': '1088897515'}, {'id': 773271914, 'indices': [20, 36], 'screen_name': 'BrianMikkelsenC', 'name': 'Brian Mikkelsen', 'id_str': '773271914'}, {'id': 875236008, 'indices': [48, 60], 'screen_name': 'di_digital_', 'name': 'DI Digital', 'id_str': '875236008'}, {'id': 711855443778347008, 'indices': [72, 86], 'screen_name': 'VindFremtiden', 'name': 'DI - Vind Fremtiden', 'id_str': '711855443778347008'}], 'hashtags': [{'text': 'digidk', 'indices': [102, 109]}], 'urls': [{'display_url': 'twitter.com/i/web/status/8…', 'indices': [111, 134], 'url': 'https://t.co/DFkW1Gi3PA', 'expanded_url': 'https://twitter.com/i/web/status/816226586571788288'}]}, id=816226586571788288, contributors=None, possibly_sensitive=False, favorited=False, truncated=True, id_str='816226586571788288', retweeted=False, retweet_count=7, lang='da', _json={'is_quote_status': False, 'place': None, 'in_reply_to_user_id': None, 'favorite_count': 8, 'source': '<a href=\"http://twitter.com\" rel=\"nofollow\">Twitter Web Client</a>', 'geo': None, 'in_reply_to_user_id_str': None, 'in_reply_to_status_id': None, 'entities': {'symbols': [], 'user_mentions': [{'id': 1088897515, 'indices': [10, 16], 'screen_name': 'Wuxus', 'name': 'Wuxus A/S', 'id_str': '1088897515'}, {'id': 773271914, 'indices': [20, 36], 'screen_name': 'BrianMikkelsenC', 'name': 'Brian Mikkelsen', 'id_str': '773271914'}, {'id': 875236008, 'indices': [48, 60], 'screen_name': 'di_digital_', 'name': 'DI Digital', 'id_str': '875236008'}, {'id': 711855443778347008, 'indices': [72, 86], 'screen_name': 'VindFremtiden', 'name': 'DI - Vind Fremtiden', 'id_str': '711855443778347008'}], 'hashtags': [{'text': 'digidk', 'indices': [102, 109]}], 'urls': [{'display_url': 'twitter.com/i/web/status/8…', 'indices': [111, 134], 'url': 'https://t.co/DFkW1Gi3PA', 'expanded_url': 'https://twitter.com/i/web/status/816226586571788288'}]}, 'id': 816226586571788288, 'contributors': None, 'in_reply_to_status_id_str': None, 'possibly_sensitive': False, 'truncated': True, 'favorited': False, 'id_str': '816226586571788288', 'retweeted': False, 'retweet_count': 7, 'lang': 'da', 'coordinates': None, 'created_at': 'Tue Jan 03 10:15:57 +0000 2017', 'in_reply_to_screen_name': None, 'text': 'Hør bl.a. @Wuxus og @BrianMikkelsenC. Nytårskur @di_digital_ 5. januar. @VindFremtiden ikke tabe den. #digidk… https://t.co/DFkW1Gi3PA'}, created_at=datetime.datetime(2017, 1, 3, 10, 15, 57), geo=None, _api=<tweepy.api.API object at 0x7fcfbabb0fd0>, in_reply_to_status_id_str=None, source_url='http://twitter.com', text='Hør bl.a. @Wuxus og @BrianMikkelsenC. Nytårskur @di_digital_ 5. januar. @VindFremtiden ikke tabe den. #digidk… https://t.co/DFkW1Gi3PA'), retweet_count=7, lang='da', _json={'is_quote_status': False, 'place': None, 'in_reply_to_user_id': None, 'favorite_count': 0, 'source': '<a href=\"http://twitter.com/download/iphone\" rel=\"nofollow\">Twitter for iPhone</a>', 'geo': None, 'in_reply_to_user_id_str': None, 'in_reply_to_status_id': None, 'entities': {'symbols': [], 'user_mentions': [{'id': 85666267, 'indices': [3, 12], 'screen_name': 'bjhjuler', 'name': 'Bo Hjuler', 'id_str': '85666267'}, {'id': 1088897515, 'indices': [24, 30], 'screen_name': 'Wuxus', 'name': 'Wuxus A/S', 'id_str': '1088897515'}, {'id': 773271914, 'indices': [34, 50], 'screen_name': 'BrianMikkelsenC', 'name': 'Brian Mikkelsen', 'id_str': '773271914'}, {'id': 875236008, 'indices': [62, 74], 'screen_name': 'di_digital_', 'name': 'DI Digital', 'id_str': '875236008'}, {'id': 711855443778347008, 'indices': [86, 100], 'screen_name': 'VindFremtiden', 'name': 'DI - Vind Fremtiden', 'id_str': '711855443778347008'}], 'hashtags': [{'text': 'digidk', 'indices': [116, 123]}, {'text': 'dkbiz', 'indices': [124, 130]}], 'urls': []}, 'id': 816344704283451392, 'contributors': None, 'in_reply_to_status_id_str': None, 'truncated': False, 'favorited': False, 'id_str': '816344704283451392', 'retweeted': False, 'retweeted_status': {'is_quote_status': False, 'place': None, 'in_reply_to_user_id': None, 'favorite_count': 8, 'source': '<a href=\"http://twitter.com\" rel=\"nofollow\">Twitter Web Client</a>', 'geo': None, 'in_reply_to_user_id_str': None, 'in_reply_to_status_id': None, 'entities': {'symbols': [], 'user_mentions': [{'id': 1088897515, 'indices': [10, 16], 'screen_name': 'Wuxus', 'name': 'Wuxus A/S', 'id_str': '1088897515'}, {'id': 773271914, 'indices': [20, 36], 'screen_name': 'BrianMikkelsenC', 'name': 'Brian Mikkelsen', 'id_str': '773271914'}, {'id': 875236008, 'indices': [48, 60], 'screen_name': 'di_digital_', 'name': 'DI Digital', 'id_str': '875236008'}, {'id': 711855443778347008, 'indices': [72, 86], 'screen_name': 'VindFremtiden', 'name': 'DI - Vind Fremtiden', 'id_str': '711855443778347008'}], 'hashtags': [{'text': 'digidk', 'indices': [102, 109]}], 'urls': [{'display_url': 'twitter.com/i/web/status/8…', 'indices': [111, 134], 'url': 'https://t.co/DFkW1Gi3PA', 'expanded_url': 'https://twitter.com/i/web/status/816226586571788288'}]}, 'id': 816226586571788288, 'contributors': None, 'in_reply_to_status_id_str': None, 'possibly_sensitive': False, 'truncated': True, 'favorited': False, 'id_str': '816226586571788288', 'retweeted': False, 'retweet_count': 7, 'lang': 'da', 'coordinates': None, 'created_at': 'Tue Jan 03 10:15:57 +0000 2017', 'in_reply_to_screen_name': None, 'text': 'Hør bl.a. @Wuxus og @BrianMikkelsenC. Nytårskur @di_digital_ 5. januar. @VindFremtiden ikke tabe den. #digidk… https://t.co/DFkW1Gi3PA'}, 'retweet_count': 7, 'lang': 'da', 'coordinates': None, 'created_at': 'Tue Jan 03 18:05:19 +0000 2017', 'in_reply_to_screen_name': None, 'text': 'RT @bjhjuler: Hør bl.a. @Wuxus og @BrianMikkelsenC. Nytårskur @di_digital_ 5. januar. @VindFremtiden ikke tabe den. #digidk #dkbiz https://…'}, created_at=datetime.datetime(2017, 1, 3, 18, 5, 19), geo=None, _api=<tweepy.api.API object at 0x7fcfbabb0fd0>, in_reply_to_status_id_str=None, source_url='http://twitter.com/download/iphone', text='RT @bjhjuler: Hør bl.a. @Wuxus og @BrianMikkelsenC. Nytårskur @di_digital_ 5. januar. @VindFremtiden ikke tabe den. #digidk #dkbiz https://…')"
      ]
     },
     "execution_count": 23,
     "metadata": {},
     "output_type": "execute_result"
    }
   ],
   "source": [
    "#number of times Thorbjørn has been retweetedt\n",
    "tbTimeLine"
   ]
  },
  {
   "cell_type": "code",
   "execution_count": null,
   "metadata": {
    "collapsed": true
   },
   "outputs": [],
   "source": []
  }
 ],
 "metadata": {
  "kernelspec": {
   "display_name": "Python 3",
   "language": "python",
   "name": "python3"
  },
  "language_info": {
   "codemirror_mode": {
    "name": "ipython",
    "version": 3
   },
   "file_extension": ".py",
   "mimetype": "text/x-python",
   "name": "python",
   "nbconvert_exporter": "python",
   "pygments_lexer": "ipython3",
   "version": "3.5.2"
  }
 },
 "nbformat": 4,
 "nbformat_minor": 1
}
